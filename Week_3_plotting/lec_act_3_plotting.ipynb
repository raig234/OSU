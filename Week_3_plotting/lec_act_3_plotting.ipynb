{
 "cells": [
  {
   "cell_type": "code",
   "execution_count": 11,
   "metadata": {
    "deletable": false,
    "editable": false
   },
   "outputs": [],
   "source": [
    "# Initialize Otter\n",
    "import otter\n",
    "grader = otter.Notebook(\"lec_act_3_plotting.ipynb\")"
   ]
  },
  {
   "cell_type": "markdown",
   "metadata": {},
   "source": [
    "# Lecture goals\n",
    "\n",
    "1. Understand the difference between a figure/window and a plotting area/subplot/axes\n",
    "2. Be able to create a figure with subplots in it\n",
    "3. Plot something in the subplot and label it\n",
    "4. Pass parameters to functions by both position and name\n",
    "\n",
    "Note: To see what the correct result should look like, see Lab lecture https://docs.google.com/presentation/d/1IiGGUNet-4Nj07x2cTXU6IOYXy9TSdAF5OUWCCKIYEM/edit?usp=sharing"
   ]
  },
  {
   "cell_type": "raw",
   "metadata": {},
   "source": [
    "# Install a pip package in the current Jupyter kernel\n",
    "# Note: this is a safety check in case your JN install was not in the same place as your libraries\n",
    "import sys\n",
    "!{sys.executable} -m pip install matplotlib"
   ]
  },
  {
   "cell_type": "code",
   "execution_count": 12,
   "metadata": {},
   "outputs": [],
   "source": [
    "# Access all numpy functions as np.\n",
    "import numpy as np\n",
    "import matplotlib.pyplot as plt\n",
    "%matplotlib inline\n",
    "import json as json"
   ]
  },
  {
   "cell_type": "markdown",
   "metadata": {
    "deletable": false,
    "editable": false
   },
   "source": [
    "## Read data\n",
    "\n",
    "TODO: Read in the Wrist_torque_data.csv file. This is the data we'll be plotting; note that this data is the result of calling **get_channel_data** for the wrist torque data - it is **n_picks** by **n_timesteps * 3**."
   ]
  },
  {
   "cell_type": "code",
   "execution_count": 13,
   "metadata": {
    "tags": []
   },
   "outputs": [],
   "source": [
    "# Load in the Wrist_torque_data.csv file\n",
    "#  Note: Use the filename \"Data/Wrist_torque_data.csv\" - do not put in a full path name/a different file name, or the\n",
    "#   autograder on Gradescope will fail and you'll get a zero.\n",
    "file_name = \"Data/Wrist_torque_data.csv\"\n",
    "pick_data = np.loadtxt(file_name, dtype =\"float\", delimiter = ',')\n",
    "\n",
    "wrist_torque_data = pick_data"
   ]
  },
  {
   "cell_type": "code",
   "execution_count": 14,
   "metadata": {
    "deletable": false,
    "editable": false
   },
   "outputs": [
    {
     "data": {
      "text/html": [
       "<p><strong><pre style='display: inline;'>Read data</pre></strong> passed! 🌈</p>"
      ],
      "text/plain": [
       "Read data results: All test cases passed!"
      ]
     },
     "execution_count": 14,
     "metadata": {},
     "output_type": "execute_result"
    }
   ],
   "source": [
    "grader.check(\"Read data\")"
   ]
  },
  {
   "cell_type": "markdown",
   "metadata": {
    "deletable": false,
    "editable": false
   },
   "source": [
    "## Get data\n",
    "\n",
    "TODO: Get the Wrist torque **z** channel for the first row of pick data (these will be the y values you plot with). Create the **t** (time) values (these will be the x values you plot with). Remember that the z values start at index 2 and are every 3rd value\n",
    "\n",
    "For the **t** values, assume the data is sampled at 30 Hz, i.e., the time sampling is 1/30th of a second\n",
    "\n",
    "- Step 1: How big does the t array have to be? (hint: How many z values are there for the wrist torque data? What was n_time_steps?)\n",
    "- Step 2: How do you make an array of that size with that spacing? (hint: **np.arange**)\n"
   ]
  },
  {
   "cell_type": "code",
   "execution_count": 15,
   "metadata": {
    "tags": []
   },
   "outputs": [
    {
     "name": "stdout",
     "output_type": "stream",
     "text": [
      "Time Steps Array: [0.         0.03333333 0.06666667 0.1        0.13333333 0.16666667\n",
      " 0.2        0.23333333 0.26666667 0.3        0.33333333 0.36666667\n",
      " 0.4        0.43333333 0.46666667 0.5        0.53333333 0.56666667\n",
      " 0.6        0.63333333 0.66666667 0.7        0.73333333 0.76666667\n",
      " 0.8        0.83333333 0.86666667 0.9        0.93333333 0.96666667\n",
      " 1.         1.03333333 1.06666667 1.1        1.13333333 1.16666667\n",
      " 1.2        1.23333333 1.26666667 1.3       ]\n",
      "Z Values for the First Row: [ 0.1285  0.1286  0.1266  0.1273  0.126   0.1257  0.126   0.1238  0.1242\n",
      "  0.1292  0.1274  0.1342  0.1326  0.1316  0.1316  0.131   0.1305  0.1299\n",
      "  0.1295  0.1295  0.1228  0.1227  0.1228  0.1216  0.1151 -0.0729 -0.1074\n",
      " -0.0916 -0.0772 -0.0735 -0.0832 -0.0973 -0.106  -0.0883 -0.0806 -0.1006\n",
      " -0.1025 -0.0885 -0.0831 -0.0773]\n",
      "ts is size (40,)\n",
      "z_values is size (40,)\n"
     ]
    }
   ],
   "source": [
    "# TODO: Create a numpy array that starts at 0, ends at number of time steps * time_step, and has step size time_step\n",
    "#   See np.arange\n",
    "# Step 1: Calculate the number of time steps in the data (assume a data spacing of 3)\n",
    "\n",
    "\n",
    "# Step 2: Create a numpy array with that many elements with a spacing of 1.0/30.0 (30 Hz) (this is ts)\n",
    "\n",
    "# Step 3: Get out just the z values from the wrist torque data (this is z_values) for the first row\n",
    "\n",
    "\n",
    "# Print the results\n",
    "\n",
    "\n",
    "\n",
    "# TODO Set up the time (x axis) data \n",
    "time_step = 1.0 / 30.0  # This is 1/30th of a second\n",
    "n_time_steps = wrist_torque_data.shape[1] // 3\n",
    "ts = np.arange(0, n_time_steps * time_step, time_step)\n",
    "z_values = wrist_torque_data[0][2::3]\n",
    "\n",
    "# Print the results\n",
    "print(\"Time Steps Array:\", ts)\n",
    "print(\"Z Values for the First Row:\", z_values)\n",
    "\n",
    "# Use this to check that your data is the right size - both should be of size (40,)\n",
    "#  Note: it says (40,) instead of (40,1). That's just numpy's way of saying that it's a 1 dimensional array,\n",
    "#   or a tuple with 1 value\n",
    "print(f\"ts is size {ts.shape}\")\n",
    "print(f\"z_values is size {z_values.shape}\")\n"
   ]
  },
  {
   "cell_type": "code",
   "execution_count": 16,
   "metadata": {
    "deletable": false,
    "editable": false
   },
   "outputs": [
    {
     "data": {
      "text/html": [
       "<p><strong><pre style='display: inline;'>Get data</pre></strong> passed! 🌟</p>"
      ],
      "text/plain": [
       "Get data results: All test cases passed!"
      ]
     },
     "execution_count": 16,
     "metadata": {},
     "output_type": "execute_result"
    }
   ],
   "source": [
    "grader.check(\"Get data\")"
   ]
  },
  {
   "cell_type": "markdown",
   "metadata": {
    "deletable": false,
    "editable": false
   },
   "source": [
    "## Plot data\n",
    "\n",
    "TODO: Plot the **ts** versus **z_values** data. Make sure to add x and y labels, along with a title.\n",
    "\n",
    "x-axis label: time - make sure to use units (seconds) in the label\n",
    "\n",
    "y-axis label: what you're plotting - make sure you use the units (N.m)\n",
    "\n",
    "Title: Should be what data channel this is"
   ]
  },
  {
   "cell_type": "code",
   "execution_count": 30,
   "metadata": {
    "tags": []
   },
   "outputs": [
    {
     "ename": "ValueError",
     "evalue": "Unknown projection '2d'",
     "output_type": "error",
     "traceback": [
      "\u001b[1;31m---------------------------------------------------------------------------\u001b[0m",
      "\u001b[1;31mKeyError\u001b[0m                                  Traceback (most recent call last)",
      "File \u001b[1;32mc:\\Users\\gatis\\anaconda3\\Lib\\site-packages\\matplotlib\\projections\\__init__.py:108\u001b[0m, in \u001b[0;36mget_projection_class\u001b[1;34m(projection)\u001b[0m\n\u001b[0;32m    107\u001b[0m \u001b[38;5;28;01mtry\u001b[39;00m:\n\u001b[1;32m--> 108\u001b[0m     \u001b[38;5;28;01mreturn\u001b[39;00m projection_registry\u001b[38;5;241m.\u001b[39mget_projection_class(projection)\n\u001b[0;32m    109\u001b[0m \u001b[38;5;28;01mexcept\u001b[39;00m \u001b[38;5;167;01mKeyError\u001b[39;00m \u001b[38;5;28;01mas\u001b[39;00m err:\n",
      "File \u001b[1;32mc:\\Users\\gatis\\anaconda3\\Lib\\site-packages\\matplotlib\\projections\\__init__.py:75\u001b[0m, in \u001b[0;36mProjectionRegistry.get_projection_class\u001b[1;34m(self, name)\u001b[0m\n\u001b[0;32m     74\u001b[0m \u001b[38;5;250m\u001b[39m\u001b[38;5;124;03m\"\"\"Get a projection class from its *name*.\"\"\"\u001b[39;00m\n\u001b[1;32m---> 75\u001b[0m \u001b[38;5;28;01mreturn\u001b[39;00m \u001b[38;5;28mself\u001b[39m\u001b[38;5;241m.\u001b[39m_all_projection_types[name]\n",
      "\u001b[1;31mKeyError\u001b[0m: '2d'",
      "\nThe above exception was the direct cause of the following exception:\n",
      "\u001b[1;31mValueError\u001b[0m                                Traceback (most recent call last)",
      "Cell \u001b[1;32mIn[30], line 11\u001b[0m\n\u001b[0;32m      8\u001b[0m ncols \u001b[38;5;241m=\u001b[39m \u001b[38;5;241m1\u001b[39m\n\u001b[0;32m     10\u001b[0m \u001b[38;5;66;03m# Create the plotting window with subplots\u001b[39;00m\n\u001b[1;32m---> 11\u001b[0m fig, axs \u001b[38;5;241m=\u001b[39m plt\u001b[38;5;241m.\u001b[39msubplots(nrows\u001b[38;5;241m=\u001b[39mnrows, ncols\u001b[38;5;241m=\u001b[39mncols, subplot_kw\u001b[38;5;241m=\u001b[39m{\u001b[38;5;124m'\u001b[39m\u001b[38;5;124mprojection\u001b[39m\u001b[38;5;124m'\u001b[39m: \u001b[38;5;124m'\u001b[39m\u001b[38;5;124m2d\u001b[39m\u001b[38;5;124m'\u001b[39m})\n\u001b[0;32m     13\u001b[0m \u001b[38;5;66;03m# Extract data for the first row\u001b[39;00m\n\u001b[0;32m     14\u001b[0m x \u001b[38;5;241m=\u001b[39m df\u001b[38;5;241m.\u001b[39miloc[\u001b[38;5;241m0\u001b[39m, \u001b[38;5;241m3\u001b[39m]  \u001b[38;5;66;03m# Torque x\u001b[39;00m\n",
      "File \u001b[1;32mc:\\Users\\gatis\\anaconda3\\Lib\\site-packages\\matplotlib\\pyplot.py:1502\u001b[0m, in \u001b[0;36msubplots\u001b[1;34m(nrows, ncols, sharex, sharey, squeeze, width_ratios, height_ratios, subplot_kw, gridspec_kw, **fig_kw)\u001b[0m\n\u001b[0;32m   1358\u001b[0m \u001b[38;5;250m\u001b[39m\u001b[38;5;124;03m\"\"\"\u001b[39;00m\n\u001b[0;32m   1359\u001b[0m \u001b[38;5;124;03mCreate a figure and a set of subplots.\u001b[39;00m\n\u001b[0;32m   1360\u001b[0m \n\u001b[1;32m   (...)\u001b[0m\n\u001b[0;32m   1499\u001b[0m \n\u001b[0;32m   1500\u001b[0m \u001b[38;5;124;03m\"\"\"\u001b[39;00m\n\u001b[0;32m   1501\u001b[0m fig \u001b[38;5;241m=\u001b[39m figure(\u001b[38;5;241m*\u001b[39m\u001b[38;5;241m*\u001b[39mfig_kw)\n\u001b[1;32m-> 1502\u001b[0m axs \u001b[38;5;241m=\u001b[39m fig\u001b[38;5;241m.\u001b[39msubplots(nrows\u001b[38;5;241m=\u001b[39mnrows, ncols\u001b[38;5;241m=\u001b[39mncols, sharex\u001b[38;5;241m=\u001b[39msharex, sharey\u001b[38;5;241m=\u001b[39msharey,\n\u001b[0;32m   1503\u001b[0m                    squeeze\u001b[38;5;241m=\u001b[39msqueeze, subplot_kw\u001b[38;5;241m=\u001b[39msubplot_kw,\n\u001b[0;32m   1504\u001b[0m                    gridspec_kw\u001b[38;5;241m=\u001b[39mgridspec_kw, height_ratios\u001b[38;5;241m=\u001b[39mheight_ratios,\n\u001b[0;32m   1505\u001b[0m                    width_ratios\u001b[38;5;241m=\u001b[39mwidth_ratios)\n\u001b[0;32m   1506\u001b[0m \u001b[38;5;28;01mreturn\u001b[39;00m fig, axs\n",
      "File \u001b[1;32mc:\\Users\\gatis\\anaconda3\\Lib\\site-packages\\matplotlib\\figure.py:917\u001b[0m, in \u001b[0;36mFigureBase.subplots\u001b[1;34m(self, nrows, ncols, sharex, sharey, squeeze, width_ratios, height_ratios, subplot_kw, gridspec_kw)\u001b[0m\n\u001b[0;32m    914\u001b[0m     gridspec_kw[\u001b[38;5;124m'\u001b[39m\u001b[38;5;124mwidth_ratios\u001b[39m\u001b[38;5;124m'\u001b[39m] \u001b[38;5;241m=\u001b[39m width_ratios\n\u001b[0;32m    916\u001b[0m gs \u001b[38;5;241m=\u001b[39m \u001b[38;5;28mself\u001b[39m\u001b[38;5;241m.\u001b[39madd_gridspec(nrows, ncols, figure\u001b[38;5;241m=\u001b[39m\u001b[38;5;28mself\u001b[39m, \u001b[38;5;241m*\u001b[39m\u001b[38;5;241m*\u001b[39mgridspec_kw)\n\u001b[1;32m--> 917\u001b[0m axs \u001b[38;5;241m=\u001b[39m gs\u001b[38;5;241m.\u001b[39msubplots(sharex\u001b[38;5;241m=\u001b[39msharex, sharey\u001b[38;5;241m=\u001b[39msharey, squeeze\u001b[38;5;241m=\u001b[39msqueeze,\n\u001b[0;32m    918\u001b[0m                   subplot_kw\u001b[38;5;241m=\u001b[39msubplot_kw)\n\u001b[0;32m    919\u001b[0m \u001b[38;5;28;01mreturn\u001b[39;00m axs\n",
      "File \u001b[1;32mc:\\Users\\gatis\\anaconda3\\Lib\\site-packages\\matplotlib\\gridspec.py:299\u001b[0m, in \u001b[0;36mGridSpecBase.subplots\u001b[1;34m(self, sharex, sharey, squeeze, subplot_kw)\u001b[0m\n\u001b[0;32m    297\u001b[0m         subplot_kw[\u001b[38;5;124m\"\u001b[39m\u001b[38;5;124msharex\u001b[39m\u001b[38;5;124m\"\u001b[39m] \u001b[38;5;241m=\u001b[39m shared_with[sharex]\n\u001b[0;32m    298\u001b[0m         subplot_kw[\u001b[38;5;124m\"\u001b[39m\u001b[38;5;124msharey\u001b[39m\u001b[38;5;124m\"\u001b[39m] \u001b[38;5;241m=\u001b[39m shared_with[sharey]\n\u001b[1;32m--> 299\u001b[0m         axarr[row, col] \u001b[38;5;241m=\u001b[39m figure\u001b[38;5;241m.\u001b[39madd_subplot(\n\u001b[0;32m    300\u001b[0m             \u001b[38;5;28mself\u001b[39m[row, col], \u001b[38;5;241m*\u001b[39m\u001b[38;5;241m*\u001b[39msubplot_kw)\n\u001b[0;32m    302\u001b[0m \u001b[38;5;66;03m# turn off redundant tick labeling\u001b[39;00m\n\u001b[0;32m    303\u001b[0m \u001b[38;5;28;01mif\u001b[39;00m sharex \u001b[38;5;129;01min\u001b[39;00m [\u001b[38;5;124m\"\u001b[39m\u001b[38;5;124mcol\u001b[39m\u001b[38;5;124m\"\u001b[39m, \u001b[38;5;124m\"\u001b[39m\u001b[38;5;124mall\u001b[39m\u001b[38;5;124m\"\u001b[39m]:\n",
      "File \u001b[1;32mc:\\Users\\gatis\\anaconda3\\Lib\\site-packages\\matplotlib\\figure.py:766\u001b[0m, in \u001b[0;36mFigureBase.add_subplot\u001b[1;34m(self, *args, **kwargs)\u001b[0m\n\u001b[0;32m    763\u001b[0m \u001b[38;5;28;01mif\u001b[39;00m (\u001b[38;5;28mlen\u001b[39m(args) \u001b[38;5;241m==\u001b[39m \u001b[38;5;241m1\u001b[39m \u001b[38;5;129;01mand\u001b[39;00m \u001b[38;5;28misinstance\u001b[39m(args[\u001b[38;5;241m0\u001b[39m], Integral)\n\u001b[0;32m    764\u001b[0m         \u001b[38;5;129;01mand\u001b[39;00m \u001b[38;5;241m100\u001b[39m \u001b[38;5;241m<\u001b[39m\u001b[38;5;241m=\u001b[39m args[\u001b[38;5;241m0\u001b[39m] \u001b[38;5;241m<\u001b[39m\u001b[38;5;241m=\u001b[39m \u001b[38;5;241m999\u001b[39m):\n\u001b[0;32m    765\u001b[0m     args \u001b[38;5;241m=\u001b[39m \u001b[38;5;28mtuple\u001b[39m(\u001b[38;5;28mmap\u001b[39m(\u001b[38;5;28mint\u001b[39m, \u001b[38;5;28mstr\u001b[39m(args[\u001b[38;5;241m0\u001b[39m])))\n\u001b[1;32m--> 766\u001b[0m projection_class, pkw \u001b[38;5;241m=\u001b[39m \u001b[38;5;28mself\u001b[39m\u001b[38;5;241m.\u001b[39m_process_projection_requirements(\n\u001b[0;32m    767\u001b[0m     \u001b[38;5;241m*\u001b[39margs, \u001b[38;5;241m*\u001b[39m\u001b[38;5;241m*\u001b[39mkwargs)\n\u001b[0;32m    768\u001b[0m ax \u001b[38;5;241m=\u001b[39m projection_class(\u001b[38;5;28mself\u001b[39m, \u001b[38;5;241m*\u001b[39margs, \u001b[38;5;241m*\u001b[39m\u001b[38;5;241m*\u001b[39mpkw)\n\u001b[0;32m    769\u001b[0m key \u001b[38;5;241m=\u001b[39m (projection_class, pkw)\n",
      "File \u001b[1;32mc:\\Users\\gatis\\anaconda3\\Lib\\site-packages\\matplotlib\\figure.py:1721\u001b[0m, in \u001b[0;36mFigureBase._process_projection_requirements\u001b[1;34m(self, axes_class, polar, projection, *args, **kwargs)\u001b[0m\n\u001b[0;32m   1718\u001b[0m     projection \u001b[38;5;241m=\u001b[39m \u001b[38;5;124m'\u001b[39m\u001b[38;5;124mpolar\u001b[39m\u001b[38;5;124m'\u001b[39m\n\u001b[0;32m   1720\u001b[0m \u001b[38;5;28;01mif\u001b[39;00m \u001b[38;5;28misinstance\u001b[39m(projection, \u001b[38;5;28mstr\u001b[39m) \u001b[38;5;129;01mor\u001b[39;00m projection \u001b[38;5;129;01mis\u001b[39;00m \u001b[38;5;28;01mNone\u001b[39;00m:\n\u001b[1;32m-> 1721\u001b[0m     projection_class \u001b[38;5;241m=\u001b[39m projections\u001b[38;5;241m.\u001b[39mget_projection_class(projection)\n\u001b[0;32m   1722\u001b[0m \u001b[38;5;28;01melif\u001b[39;00m \u001b[38;5;28mhasattr\u001b[39m(projection, \u001b[38;5;124m'\u001b[39m\u001b[38;5;124m_as_mpl_axes\u001b[39m\u001b[38;5;124m'\u001b[39m):\n\u001b[0;32m   1723\u001b[0m     projection_class, extra_kwargs \u001b[38;5;241m=\u001b[39m projection\u001b[38;5;241m.\u001b[39m_as_mpl_axes()\n",
      "File \u001b[1;32mc:\\Users\\gatis\\anaconda3\\Lib\\site-packages\\matplotlib\\projections\\__init__.py:110\u001b[0m, in \u001b[0;36mget_projection_class\u001b[1;34m(projection)\u001b[0m\n\u001b[0;32m    108\u001b[0m     \u001b[38;5;28;01mreturn\u001b[39;00m projection_registry\u001b[38;5;241m.\u001b[39mget_projection_class(projection)\n\u001b[0;32m    109\u001b[0m \u001b[38;5;28;01mexcept\u001b[39;00m \u001b[38;5;167;01mKeyError\u001b[39;00m \u001b[38;5;28;01mas\u001b[39;00m err:\n\u001b[1;32m--> 110\u001b[0m     \u001b[38;5;28;01mraise\u001b[39;00m \u001b[38;5;167;01mValueError\u001b[39;00m(\u001b[38;5;124m\"\u001b[39m\u001b[38;5;124mUnknown projection \u001b[39m\u001b[38;5;132;01m%r\u001b[39;00m\u001b[38;5;124m\"\u001b[39m \u001b[38;5;241m%\u001b[39m projection) \u001b[38;5;28;01mfrom\u001b[39;00m \u001b[38;5;21;01merr\u001b[39;00m\n",
      "\u001b[1;31mValueError\u001b[0m: Unknown projection '2d'"
     ]
    },
    {
     "data": {
      "text/plain": [
       "<Figure size 640x480 with 0 Axes>"
      ]
     },
     "metadata": {},
     "output_type": "display_data"
    }
   ],
   "source": [
    "# Create the plotting window. Use subplots.\n",
    "nrows = 1\n",
    "ncols = 1\n",
    "\n",
    "\n",
    "# Set the number of rows and columns for subplots\n",
    "nrows = 1\n",
    "ncols = 1\n",
    "\n",
    "# Create the plotting window with subplots\n",
    "fig, axs = plt.subplots(nrows=nrows, ncols=ncols, subplot_kw={'projection': '2d'})\n",
    "\n",
    "# Extract data for the first row\n",
    "x = df.iloc[0, 3]  # Torque x\n",
    "y = df.iloc[0, 4]  # Torque y\n",
    "z = df.iloc[0, 5]  # Z-axis data\n",
    "\n",
    "# Create a 3D scatter plot\n",
    "axs.scatter(x, y, z)\n",
    "\n",
    "# Customize the plot if needed\n",
    "axs.set_xlabel('Torque X')\n",
    "axs.set_ylabel('Torque Y')\n",
    "axs.set_zlabel('Z-axis Data')\n",
    "\n",
    "# Show the plot\n",
    "plt.show()\n",
    "\n",
    "\n",
    "plt.show()"
   ]
  },
  {
   "cell_type": "code",
   "execution_count": 28,
   "metadata": {
    "deletable": false,
    "editable": false
   },
   "outputs": [
    {
     "data": {
      "text/html": [
       "<p><strong style='color: red;'><pre style='display: inline;'>Plot data</pre> results:</strong></p><p><strong><pre style='display: inline;'>Plot data - 1</pre> result:</strong></p><pre>    ✅ Test case passed</pre><p><strong><pre style='display: inline;'>Plot data - 2</pre> result:</strong></p><pre>    ❌ Test case failed\n",
       "    Trying:\n",
       "        assert(\"s\" in axs.get_xlabel() or \"S\" in axs.get_xlabel())\n",
       "    Expecting nothing\n",
       "    **********************************************************************\n",
       "    Line 1, in Plot data 1\n",
       "    Failed example:\n",
       "        assert(\"s\" in axs.get_xlabel() or \"S\" in axs.get_xlabel())\n",
       "    Exception raised:\n",
       "        Traceback (most recent call last):\n",
       "          File \"c:\\Users\\gatis\\anaconda3\\Lib\\doctest.py\", line 1351, in __run\n",
       "            exec(compile(example.source, filename, \"single\",\n",
       "          File \"<doctest Plot data 1[0]>\", line 1, in <module>\n",
       "            assert(\"s\" in axs.get_xlabel() or \"S\" in axs.get_xlabel())\n",
       "                                              ^^^^^^^^^^^^^^^^^^^^^^^\n",
       "        AssertionError\n",
       "</pre><p><strong><pre style='display: inline;'>Plot data - 3</pre> result:</strong></p><pre>    ❌ Test case failed\n",
       "    Trying:\n",
       "        assert(\"N.m\" in axs.get_ylabel())\n",
       "    Expecting nothing\n",
       "    **********************************************************************\n",
       "    Line 1, in Plot data 2\n",
       "    Failed example:\n",
       "        assert(\"N.m\" in axs.get_ylabel())\n",
       "    Exception raised:\n",
       "        Traceback (most recent call last):\n",
       "          File \"c:\\Users\\gatis\\anaconda3\\Lib\\doctest.py\", line 1351, in __run\n",
       "            exec(compile(example.source, filename, \"single\",\n",
       "          File \"<doctest Plot data 2[0]>\", line 1, in <module>\n",
       "            assert(\"N.m\" in axs.get_ylabel())\n",
       "                   ^^^^^^^^^^^^^^^^^^^^^^^^^\n",
       "        AssertionError\n",
       "</pre><p><strong><pre style='display: inline;'>Plot data - 4</pre> result:</strong></p><pre>    ❌ Test case failed\n",
       "    Trying:\n",
       "        assert(\"rist\" in axs.get_title() and \"orque\" in axs.get_title())\n",
       "    Expecting nothing\n",
       "    **********************************************************************\n",
       "    Line 1, in Plot data 3\n",
       "    Failed example:\n",
       "        assert(\"rist\" in axs.get_title() and \"orque\" in axs.get_title())\n",
       "    Exception raised:\n",
       "        Traceback (most recent call last):\n",
       "          File \"c:\\Users\\gatis\\anaconda3\\Lib\\doctest.py\", line 1351, in __run\n",
       "            exec(compile(example.source, filename, \"single\",\n",
       "          File \"<doctest Plot data 3[0]>\", line 1, in <module>\n",
       "            assert(\"rist\" in axs.get_title() and \"orque\" in axs.get_title())\n",
       "                                                 ^^^^^^^^^^^^^^^^^^^^^^^^^^\n",
       "        AssertionError\n",
       "</pre>"
      ],
      "text/plain": [
       "Plot data results:\n",
       "    Plot data - 1 result:\n",
       "        ✅ Test case passed\n",
       "\n",
       "    Plot data - 2 result:\n",
       "        ❌ Test case failed\n",
       "        Trying:\n",
       "            assert(\"s\" in axs.get_xlabel() or \"S\" in axs.get_xlabel())\n",
       "        Expecting nothing\n",
       "        **********************************************************************\n",
       "        Line 1, in Plot data 1\n",
       "        Failed example:\n",
       "            assert(\"s\" in axs.get_xlabel() or \"S\" in axs.get_xlabel())\n",
       "        Exception raised:\n",
       "            Traceback (most recent call last):\n",
       "              File \"c:\\Users\\gatis\\anaconda3\\Lib\\doctest.py\", line 1351, in __run\n",
       "                exec(compile(example.source, filename, \"single\",\n",
       "              File \"<doctest Plot data 1[0]>\", line 1, in <module>\n",
       "                assert(\"s\" in axs.get_xlabel() or \"S\" in axs.get_xlabel())\n",
       "                                                  ^^^^^^^^^^^^^^^^^^^^^^^\n",
       "            AssertionError\n",
       "\n",
       "    Plot data - 3 result:\n",
       "        ❌ Test case failed\n",
       "        Trying:\n",
       "            assert(\"N.m\" in axs.get_ylabel())\n",
       "        Expecting nothing\n",
       "        **********************************************************************\n",
       "        Line 1, in Plot data 2\n",
       "        Failed example:\n",
       "            assert(\"N.m\" in axs.get_ylabel())\n",
       "        Exception raised:\n",
       "            Traceback (most recent call last):\n",
       "              File \"c:\\Users\\gatis\\anaconda3\\Lib\\doctest.py\", line 1351, in __run\n",
       "                exec(compile(example.source, filename, \"single\",\n",
       "              File \"<doctest Plot data 2[0]>\", line 1, in <module>\n",
       "                assert(\"N.m\" in axs.get_ylabel())\n",
       "                       ^^^^^^^^^^^^^^^^^^^^^^^^^\n",
       "            AssertionError\n",
       "\n",
       "    Plot data - 4 result:\n",
       "        ❌ Test case failed\n",
       "        Trying:\n",
       "            assert(\"rist\" in axs.get_title() and \"orque\" in axs.get_title())\n",
       "        Expecting nothing\n",
       "        **********************************************************************\n",
       "        Line 1, in Plot data 3\n",
       "        Failed example:\n",
       "            assert(\"rist\" in axs.get_title() and \"orque\" in axs.get_title())\n",
       "        Exception raised:\n",
       "            Traceback (most recent call last):\n",
       "              File \"c:\\Users\\gatis\\anaconda3\\Lib\\doctest.py\", line 1351, in __run\n",
       "                exec(compile(example.source, filename, \"single\",\n",
       "              File \"<doctest Plot data 3[0]>\", line 1, in <module>\n",
       "                assert(\"rist\" in axs.get_title() and \"orque\" in axs.get_title())\n",
       "                                                     ^^^^^^^^^^^^^^^^^^^^^^^^^^\n",
       "            AssertionError"
      ]
     },
     "execution_count": 28,
     "metadata": {},
     "output_type": "execute_result"
    }
   ],
   "source": [
    "grader.check(\"Plot data\")"
   ]
  },
  {
   "cell_type": "markdown",
   "metadata": {
    "deletable": false,
    "editable": false
   },
   "source": [
    "## Hours and collaborators\n",
    "Required for every assignment - fill out before you hand-in.\n",
    "\n",
    "Listing names and websites helps you to document who you worked with and what internet help you received in the case of any plagiarism issues. You should list names of anyone (in class or not) who has substantially helped you with an assignment - or anyone you have *helped*. You do not need to list TAs.\n",
    "\n",
    "Listing hours helps us track if the assignments are too long."
   ]
  },
  {
   "cell_type": "code",
   "execution_count": null,
   "metadata": {
    "tags": []
   },
   "outputs": [],
   "source": [
    "\n",
    "# List of names (creates a set)\n",
    "worked_with_names = {\"not filled out\"}\n",
    "# List of URLS TCW3 (creates a set)\n",
    "websites = {\"not filled out\"}\n",
    "# Approximate number of hours, including lab/in-class time\n",
    "hours = -1.5"
   ]
  },
  {
   "cell_type": "code",
   "execution_count": null,
   "metadata": {
    "deletable": false,
    "editable": false
   },
   "outputs": [],
   "source": [
    "grader.check(\"hours_collaborators\")"
   ]
  },
  {
   "cell_type": "markdown",
   "metadata": {
    "deletable": false,
    "editable": false
   },
   "source": [
    "## Submission\n",
    "\n",
    "Make sure you have run all cells in your notebook in order before running the cell below, so that all images/graphs appear in the output. The cell below will generate a zip file for you to submit. **Please save before exporting!**\n",
    "\n",
    "Submit through gradescope, Lecture activity 3 plotting. Submit just the .ipynb file - the data files will be included for you"
   ]
  },
  {
   "cell_type": "code",
   "execution_count": null,
   "metadata": {
    "deletable": false,
    "editable": false
   },
   "outputs": [],
   "source": [
    "# Save your notebook first, then run this cell to export your submission.\n",
    "grader.export(pdf=False, run_tests=True)"
   ]
  },
  {
   "cell_type": "markdown",
   "metadata": {},
   "source": [
    " "
   ]
  }
 ],
 "metadata": {
  "kernelspec": {
   "display_name": "Python 3",
   "language": "python",
   "name": "python3"
  },
  "language_info": {
   "codemirror_mode": {
    "name": "ipython",
    "version": 3
   },
   "file_extension": ".py",
   "mimetype": "text/x-python",
   "name": "python",
   "nbconvert_exporter": "python",
   "pygments_lexer": "ipython3",
   "version": "3.11.5"
  },
  "otter": {
   "OK_FORMAT": true,
   "tests": {
    "Get data": {
     "name": "Get data",
     "points": 2,
     "suites": [
      {
       "cases": [
        {
         "code": ">>> assert(ts.size == 40)\n",
         "hidden": false,
         "locked": false
        },
        {
         "code": ">>> assert(z_values.size == 40)\n",
         "hidden": false,
         "locked": false
        },
        {
         "code": ">>> assert(np.isclose(ts[0], 0.0))\n",
         "hidden": false,
         "locked": false
        },
        {
         "code": ">>> assert(np.isclose(ts[-1], 1.3))\n",
         "hidden": false,
         "locked": false
        },
        {
         "code": ">>> assert(np.isclose(z_values[0], 0.12849379, atol=0.001))\n",
         "hidden": false,
         "locked": false
        },
        {
         "code": ">>> assert(np.isclose(z_values[-1], -0.077284, atol=0.001))\n",
         "hidden": false,
         "locked": false
        }
       ],
       "scored": true,
       "setup": "",
       "teardown": "",
       "type": "doctest"
      }
     ]
    },
    "Plot data": {
     "name": "Plot data",
     "points": 2,
     "suites": [
      {
       "cases": [
        {
         "code": ">>> assert(ts.shape == z_values.shape)\n",
         "hidden": false,
         "locked": false
        },
        {
         "code": ">>> assert(\"s\" in axs.get_xlabel() or \"S\" in axs.get_xlabel())\n",
         "hidden": false,
         "locked": false
        },
        {
         "code": ">>> assert(\"N.m\" in axs.get_ylabel())\n",
         "hidden": false,
         "locked": false
        },
        {
         "code": ">>> assert(\"rist\" in axs.get_title() and \"orque\" in axs.get_title())\n",
         "hidden": false,
         "locked": false
        }
       ],
       "scored": true,
       "setup": "",
       "teardown": "",
       "type": "doctest"
      }
     ]
    },
    "Read data": {
     "name": "Read data",
     "points": 1,
     "suites": [
      {
       "cases": [
        {
         "code": ">>> assert(wrist_torque_data.shape == (660, 40 * 3))\n",
         "hidden": false,
         "locked": false
        }
       ],
       "scored": true,
       "setup": "",
       "teardown": "",
       "type": "doctest"
      }
     ]
    },
    "hours_collaborators": {
     "name": "hours_collaborators",
     "points": 1,
     "suites": [
      {
       "cases": [
        {
         "code": ">>> assert(not \"not filled out\" in worked_with_names)\n",
         "hidden": false,
         "locked": false
        },
        {
         "code": ">>> assert(not \"not filled out\" in websites)\n",
         "hidden": false,
         "locked": false
        },
        {
         "code": ">>> assert(hours > 0)\n",
         "hidden": false,
         "locked": false
        }
       ],
       "scored": true,
       "setup": "",
       "teardown": "",
       "type": "doctest"
      }
     ]
    }
   }
  }
 },
 "nbformat": 4,
 "nbformat_minor": 2
}

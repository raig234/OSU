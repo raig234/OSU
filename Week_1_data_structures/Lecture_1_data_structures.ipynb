{
 "cells": [
  {
   "cell_type": "markdown",
   "metadata": {},
   "source": [
    "# Lecture 1: Jupyter Notebooks, lists, dictionaries, numpy arrays\n",
    "\n",
    "Also see the tutorials for lists and dictionaries. This lecture will focus on Fun Things with Numpy arrays.\n",
    "We're going to do stuff with lists, first, because it's easier to understand. After this lecture, you should always use numpy arrays, not lists, when storing/manipulating arrays of numbers."
   ]
  },
  {
   "cell_type": "code",
   "execution_count": 1,
   "metadata": {},
   "outputs": [
    {
     "name": "stdout",
     "output_type": "stream",
     "text": [
      "[0.0, 1.0, 2.0, 3.0]\n",
      "[-2.0, -1.0, 0.0, 0.2]\n"
     ]
    }
   ],
   "source": [
    "# Some typical list-based ways to store a list of numbers\n",
    "a_list = [0.0, 1.0, 2.0, 3.0]\n",
    "b_list = [-2.0, -1.0, 0.0, 0.2]\n",
    "\n",
    "print(a_list)\n",
    "print(b_list)"
   ]
  },
  {
   "cell_type": "code",
   "execution_count": 2,
   "metadata": {},
   "outputs": [
    {
     "name": "stdout",
     "output_type": "stream",
     "text": [
      "1.0\n"
     ]
    }
   ],
   "source": [
    "# print one element of the list (notice index, 1)\n",
    "print(a_list[1])"
   ]
  },
  {
   "cell_type": "code",
   "execution_count": 3,
   "metadata": {},
   "outputs": [
    {
     "name": "stdout",
     "output_type": "stream",
     "text": [
      "Sum: 6.0\n"
     ]
    }
   ],
   "source": [
    "# Calculate the sum of a list\n",
    "my_sum = 0\n",
    "for e in a_list:\n",
    "    # e is set to a_list[i] where i is 0, 1, 2 etc\n",
    "    my_sum += e\n",
    "print(f\"Sum: {my_sum}\")"
   ]
  },
  {
   "cell_type": "code",
   "execution_count": 4,
   "metadata": {},
   "outputs": [
    {
     "name": "stdout",
     "output_type": "stream",
     "text": [
      "[1.0, 3.0, 5.0, 7.0]\n"
     ]
    }
   ],
   "source": [
    "# Perform a mathematical operation on each element in the list \n",
    "# In this case, 2 * x + 1\n",
    "#. Notice how we create a list to put the result in, and use append (rather than creating the list first)\n",
    "operate_on_a_list = []\n",
    "for e in a_list:\n",
    "    operate_on_a_list.append( 2 * e + 1)\n",
    "print(operate_on_a_list)"
   ]
  },
  {
   "cell_type": "code",
   "execution_count": 5,
   "metadata": {},
   "outputs": [
    {
     "name": "stdout",
     "output_type": "stream",
     "text": [
      "Adding lists: [-2.0, 0.0, 2.0, 3.2]\n"
     ]
    }
   ],
   "source": [
    "# Iterate through two lists together\n",
    "add_lists = []\n",
    "for a, b in zip(a_list, b_list):\n",
    "    add_lists.append(a + b)\n",
    "print(f\"Adding lists: {add_lists}\")"
   ]
  },
  {
   "cell_type": "code",
   "execution_count": 6,
   "metadata": {},
   "outputs": [
    {
     "name": "stdout",
     "output_type": "stream",
     "text": [
      "Found 2: True\n"
     ]
    }
   ],
   "source": [
    "# See if 2.0 is in the list\n",
    "b_found_two = False\n",
    "for a in a_list:\n",
    "    if abs(a - 2.0) < 1e-12:\n",
    "        b_found_two = True\n",
    "print(f\"Found 2: {b_found_two}\")"
   ]
  },
  {
   "cell_type": "markdown",
   "metadata": {},
   "source": [
    "## Just say NO to lists for mathematical operations on arrays of numbers\n",
    "Use numpy.\n",
    "Do numpy tutorial before lab."
   ]
  },
  {
   "cell_type": "code",
   "execution_count": 7,
   "metadata": {},
   "outputs": [],
   "source": [
    "# Import the library numpy and declare that you want to access numpy as np.[blah]\n",
    "import numpy as np"
   ]
  },
  {
   "cell_type": "code",
   "execution_count": 8,
   "metadata": {},
   "outputs": [
    {
     "name": "stdout",
     "output_type": "stream",
     "text": [
      "[0. 1. 2. 3.]\n",
      "[-2.  -1.   0.   0.2]\n"
     ]
    }
   ],
   "source": [
    "a_np_array = np.array(a_list)  # Shortcut way to create a numpy array from a list\n",
    "b_np_array = np.array(b_list)\n",
    "print(a_np_array)  # Notice different formatting from a list\n",
    "print(b_np_array)"
   ]
  },
  {
   "cell_type": "code",
   "execution_count": 9,
   "metadata": {},
   "outputs": [
    {
     "name": "stdout",
     "output_type": "stream",
     "text": [
      "Sum: 6.0\n"
     ]
    }
   ],
   "source": [
    "# Calculate the sum of a list\n",
    "print(f\"Sum: {np.sum(a_np_array)}\")"
   ]
  },
  {
   "cell_type": "code",
   "execution_count": 10,
   "metadata": {},
   "outputs": [
    {
     "name": "stdout",
     "output_type": "stream",
     "text": [
      "[1. 3. 5. 7.]\n"
     ]
    }
   ],
   "source": [
    "# Perform a mathematical operation on each element in the list \n",
    "# In this case, 2 * x + 1\n",
    "#.   Look - no for loop!!!\n",
    "operate_on_an_np_array = 2 * a_np_array + 1\n",
    "print(operate_on_an_np_array)"
   ]
  },
  {
   "cell_type": "code",
   "execution_count": 11,
   "metadata": {},
   "outputs": [
    {
     "name": "stdout",
     "output_type": "stream",
     "text": [
      "Adding lists: [-2.   0.   2.   3.2]\n"
     ]
    }
   ],
   "source": [
    "# Add two lists together\n",
    "print(f\"Adding lists: {a_np_array + b_np_array}\")"
   ]
  },
  {
   "cell_type": "code",
   "execution_count": 12,
   "metadata": {},
   "outputs": [
    {
     "name": "stdout",
     "output_type": "stream",
     "text": [
      "Found a 2\n",
      "Found 2: [False False  True False]\n"
     ]
    }
   ],
   "source": [
    "# See if 2.0 is in the list\n",
    "#.  isclose and any are a bit complicated to use, but very powerful\n",
    "all_twos = np.isclose(a_np_array, 2.0)\n",
    "if all_twos.any():\n",
    "    print(\"Found a 2\")\n",
    "print(f\"Found 2: {all_twos}\")"
   ]
  },
  {
   "cell_type": "markdown",
   "metadata": {},
   "source": [
    "## Dictionaries\n",
    "See tutorial on dictionaries.\n",
    "\n",
    "Dictionaries are the heart of Python - pretty much everything in Python is a dictionary.\n",
    "\n",
    "Basic idea: Store data by a key (name) and value (what's in that key)\n",
    "\n",
    "Difference to lists: You can think of a list as a dictionary where all the keys are the numbers 0..n-1"
   ]
  },
  {
   "cell_type": "code",
   "execution_count": 13,
   "metadata": {},
   "outputs": [
    {
     "name": "stdout",
     "output_type": "stream",
     "text": [
      "{'key 1': [-0.2, 0.2], 'key 2': 'value'}\n"
     ]
    }
   ],
   "source": [
    "# Notice curly brackets\n",
    "my_dict = {\"key 1\": [-0.2, 0.2], \"key 2\": \"value\"}\n",
    "print(my_dict)"
   ]
  },
  {
   "cell_type": "code",
   "execution_count": 14,
   "metadata": {},
   "outputs": [
    {
     "name": "stdout",
     "output_type": "stream",
     "text": [
      "[-0.2, 0.2]\n"
     ]
    }
   ],
   "source": [
    "# Getting one element out of the dictionary\n",
    "print(my_dict[\"key 1\"])"
   ]
  },
  {
   "cell_type": "code",
   "execution_count": 15,
   "metadata": {},
   "outputs": [
    {
     "name": "stdout",
     "output_type": "stream",
     "text": [
      "Key key 1, value [-0.2, 0.2]\n",
      "Key key 2, value value\n"
     ]
    }
   ],
   "source": [
    "for k, v in my_dict.items():\n",
    "    print(f\"Key {k}, value {v}\")"
   ]
  },
  {
   "cell_type": "code",
   "execution_count": 16,
   "metadata": {},
   "outputs": [
    {
     "name": "stdout",
     "output_type": "stream",
     "text": [
      "{'key 1': [-0.2, 0.2], 'key 2': 'value', 3: 'Value for key 3'}\n"
     ]
    }
   ],
   "source": [
    "# Adding one element to the dictionary\n",
    "my_dict[3] = \"Value for key 3\"\n",
    "print(my_dict)"
   ]
  },
  {
   "cell_type": "code",
   "execution_count": null,
   "metadata": {},
   "outputs": [],
   "source": []
  }
 ],
 "metadata": {
  "kernelspec": {
   "display_name": "Python 3",
   "language": "python",
   "name": "python3"
  },
  "language_info": {
   "codemirror_mode": {
    "name": "ipython",
    "version": 3
   },
   "file_extension": ".py",
   "mimetype": "text/x-python",
   "name": "python",
   "nbconvert_exporter": "python",
   "pygments_lexer": "ipython3",
   "version": "3.11.5"
  }
 },
 "nbformat": 4,
 "nbformat_minor": 2
}
